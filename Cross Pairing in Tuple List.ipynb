{
 "cells": [
  {
   "cell_type": "code",
   "execution_count": 34,
   "id": "6619f07f",
   "metadata": {},
   "outputs": [
    {
     "name": "stdout",
     "output_type": "stream",
     "text": [
      "The original list 1 : [(1, 7), (6, 7), (9, 100), (4, 21)]\n",
      "The original list 2 : [(1, 3), (2, 1), (9, 7), (2, 17)]\n",
      "The mapped tuples : [(7, 3), (100, 7)]\n"
     ]
    }
   ],
   "source": [
    "# initializing lists\n",
    "test_list1 = [(1, 7), (6, 7), (9, 100), (4, 21)]\n",
    "test_list2 = [(1, 3), (2, 1), (9, 7), (2, 17)]\n",
    " \n",
    "# printing original lists\n",
    "print(\"The original list 1 : \" + str(test_list1))\n",
    "print(\"The original list 2 : \" + str(test_list2))\n",
    " \n",
    "# corresponding loop in list comprehension\n",
    "res = [(sub1[1], sub2[1]) for sub2 in test_list2 for sub1 in test_list1 if sub1[0] == sub2[0]]\n",
    " \n",
    "# printing result \n",
    "print(\"The mapped tuples : \" + str(res))"
   ]
  },
  {
   "cell_type": "code",
   "execution_count": 35,
   "id": "f209db49",
   "metadata": {},
   "outputs": [
    {
     "name": "stdout",
     "output_type": "stream",
     "text": [
      "The original list 1 : [(1, 7), (6, 7), (9, 100), (4, 21)]\n",
      "The original list 2 : [(1, 3), (2, 1), (9, 7), (2, 17)]\n",
      "The mapped tuples : [(7, 3), (100, 7)]\n"
     ]
    }
   ],
   "source": [
    "# initializing lists\n",
    "test_list1 = [(1, 7), (6, 7), (9, 100), (4, 21)]\n",
    "test_list2 = [(1, 3), (2, 1), (9, 7), (2, 17)]\n",
    " \n",
    "# printing original lists\n",
    "print(\"The original list 1 : \" + str(test_list1))\n",
    "print(\"The original list 2 : \" + str(test_list2))\n",
    " \n",
    "# zip() is used for pairing \n",
    "res = [(a[1], b[1]) for a, b in zip(test_list1, test_list2) if a[0] == b[0]]\n",
    " \n",
    "# printing result \n",
    "print(\"The mapped tuples : \" + str(res))"
   ]
  },
  {
   "cell_type": "code",
   "execution_count": null,
   "id": "28f4a45d",
   "metadata": {},
   "outputs": [],
   "source": []
  }
 ],
 "metadata": {
  "kernelspec": {
   "display_name": "Python 3 (ipykernel)",
   "language": "python",
   "name": "python3"
  },
  "language_info": {
   "codemirror_mode": {
    "name": "ipython",
    "version": 3
   },
   "file_extension": ".py",
   "mimetype": "text/x-python",
   "name": "python",
   "nbconvert_exporter": "python",
   "pygments_lexer": "ipython3",
   "version": "3.9.13"
  }
 },
 "nbformat": 4,
 "nbformat_minor": 5
}
